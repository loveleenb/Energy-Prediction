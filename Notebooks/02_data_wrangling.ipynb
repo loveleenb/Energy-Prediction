{
 "cells": [
  {
   "cell_type": "markdown",
   "id": "7f213801",
   "metadata": {},
   "source": [
    "# 1 Data wrangling<a id='1_Data_wrangling'></a>"
   ]
  },
  {
   "cell_type": "markdown",
   "id": "97c3a3f7",
   "metadata": {},
   "source": [
    "## 1.1 Contents<a id='2.1_Contents'></a>\n",
    "* [1 Data wrangling](#2_Data_wrangling)\n",
    "  * [1.1 Contents](#2.1_Contents)\n",
    "  * [1.2 Introduction](#2.2_Introduction)\n",
    "    * [1.2.1 Recap Of Data Science Problem](#2.2.1_Recap_Of_Data_Science_Problem)\n",
    "    * [1.2.2 Introduction To Notebook](#2.2.2_Introduction_To_Notebook)\n",
    "  * [1.3 Imports](#2.3_Imports)\n",
    "  * [1.4 Objectives](#2.4_Objectives)\n",
    "  * [1.5 Load Data](#2.5_Load_Data)\n",
    "  * [1.6 Explore The Data](#2.6_Explore_The_Data)\n",
    "    * [1.6.1 Number Of Missing Values By Column](#2.6.1_Number_Of_Missing_Values_By_Column)\n",
    "    * [1.6.2 Categorical Features](#2.6.2_Categorical_Features)\n",
    "    * [1.6.3 Numeric Features](#2.6.3_Numeric_Features)\n",
    "  * [1.7 Summary](#2.7_Summary)"
   ]
  },
  {
   "cell_type": "markdown",
   "id": "b042ab0f",
   "metadata": {},
   "source": [
    "## 1.2 Introduction<a id='1.2_Introduction'></a>"
   ]
  },
  {
   "cell_type": "markdown",
   "id": "d8acc7ba",
   "metadata": {},
   "source": [
    "This step focuses on collecting your data, organizing it, and making sure it's well defined. Some data cleaning will be done at this stage, but mostly focus is on exploring the data to better understand it."
   ]
  },
  {
   "cell_type": "markdown",
   "id": "cc44e336",
   "metadata": {},
   "source": [
    "### 1.2.1 Recap Of Data Science Problem<a id='1.2.1_Recap_Of_Data_Science_Problem'></a>"
   ]
  },
  {
   "cell_type": "markdown",
   "id": "e22620b7",
   "metadata": {},
   "source": [
    "The purpose of this data science project is to come up with a model for energy production and consumption prediction based on data collected from 1980 to 2021. Energy prediction is a data driven approach which can help understanding how much production and consumption increasing or decreasing over the time. It involves gathering and analyzing data related to energy resources to derive insights and make informed decisions. Main objective of this analysis to make of prediction about rate of energy production and consumption. This model will be used to provide guidance for enery companird about production and demand."
   ]
  },
  {
   "cell_type": "markdown",
   "id": "05499415",
   "metadata": {},
   "source": [
    "### 1.2.2 Introduction To Notebook<a id='1.2.2_Introduction_To_Notebook'></a>"
   ]
  },
  {
   "cell_type": "markdown",
   "id": "54005a9e",
   "metadata": {},
   "source": [
    "In this notebook, I will use well structured, helpful headings that frequently are self-explanatory, and make a brief note after any results to highlight key takeaways. This is an immense help to anyone reading your notebook and it will greatly help you when I come to summarise your findings. Note down key findings in a final summary at the end of the notebook. This is a great way to ensure important results don't get lost in the middle of  notebooks."
   ]
  },
  {
   "cell_type": "markdown",
   "id": "54c355f6",
   "metadata": {},
   "source": [
    "## 1.3 Imports<a id='2.3_Imports'></a>"
   ]
  },
  {
   "cell_type": "code",
   "execution_count": 2,
   "id": "ec927fd6",
   "metadata": {},
   "outputs": [],
   "source": [
    "#Import pandas, matplotlib.pyplot, and seaborn\n",
    "import pandas as pd\n",
    "import matplotlib.pyplot as plt\n",
    "import seaborn as sns\n",
    "import os\n",
    "\n",
    "#from library.sb_utils import save_file"
   ]
  },
  {
   "cell_type": "markdown",
   "id": "9c96625c",
   "metadata": {},
   "source": [
    "## 1.4 Objectives<a id='1.4_Objectives'></a>"
   ]
  },
  {
   "cell_type": "markdown",
   "id": "1e5abcc2",
   "metadata": {},
   "source": [
    "There are some fundamental questions to resolve in this notebook.\n",
    "\n",
    "* Do you think you may have the data you need to tackle the desired question?\n",
    "    * Do you have potentially useful features?\n",
    "* Do you have any fundamental issues with the data?"
   ]
  },
  {
   "cell_type": "markdown",
   "id": "476e962a",
   "metadata": {},
   "source": [
    "## 1.5 Load Data<a id='1.5_Load_Data'></a>"
   ]
  },
  {
   "cell_type": "code",
   "execution_count": 3,
   "id": "06bf0a42",
   "metadata": {},
   "outputs": [],
   "source": [
    "coal_prod_data = pd.read_csv('../Data/Production_Data/Production_Coal.csv')"
   ]
  },
  {
   "cell_type": "markdown",
   "id": "5fd3eb8f",
   "metadata": {},
   "source": [
    "First steps in auditing the data are the info method and displaying the first few records with head."
   ]
  },
  {
   "cell_type": "markdown",
   "id": "3ca95043",
   "metadata": {},
   "source": [
    "## 1.6 Explore The Data<a id='1.6_Explore_The_Data'></a>\n"
   ]
  },
  {
   "cell_type": "markdown",
   "id": "f13fb979",
   "metadata": {},
   "source": [
    "### 1.6.1 Explore The world Data<a id='1.6.1_Explore_The_world_Data'></a>\n"
   ]
  },
  {
   "cell_type": "code",
   "execution_count": 4,
   "id": "4a0ebf01",
   "metadata": {},
   "outputs": [
    {
     "data": {
      "text/html": [
       "<div>\n",
       "<style scoped>\n",
       "    .dataframe tbody tr th:only-of-type {\n",
       "        vertical-align: middle;\n",
       "    }\n",
       "\n",
       "    .dataframe tbody tr th {\n",
       "        vertical-align: top;\n",
       "    }\n",
       "\n",
       "    .dataframe thead th {\n",
       "        text-align: right;\n",
       "    }\n",
       "</style>\n",
       "<table border=\"1\" class=\"dataframe\">\n",
       "  <thead>\n",
       "    <tr style=\"text-align: right;\">\n",
       "      <th></th>\n",
       "      <th>Continent</th>\n",
       "      <th>Country</th>\n",
       "      <th>1980</th>\n",
       "      <th>1981</th>\n",
       "      <th>1982</th>\n",
       "      <th>1983</th>\n",
       "      <th>1984</th>\n",
       "      <th>1985</th>\n",
       "      <th>1986</th>\n",
       "      <th>1987</th>\n",
       "      <th>...</th>\n",
       "      <th>2013</th>\n",
       "      <th>2014</th>\n",
       "      <th>2015</th>\n",
       "      <th>2016</th>\n",
       "      <th>2017</th>\n",
       "      <th>2018</th>\n",
       "      <th>2019</th>\n",
       "      <th>2020</th>\n",
       "      <th>2021</th>\n",
       "      <th>Production_Coal</th>\n",
       "    </tr>\n",
       "  </thead>\n",
       "  <tbody>\n",
       "    <tr>\n",
       "      <th>0</th>\n",
       "      <td>Africa</td>\n",
       "      <td>Algeria</td>\n",
       "      <td>7.59E-05</td>\n",
       "      <td>0.000240414</td>\n",
       "      <td>0.000404907</td>\n",
       "      <td>0.0005694</td>\n",
       "      <td>0.000575727</td>\n",
       "      <td>0.000582054</td>\n",
       "      <td>0.000278374</td>\n",
       "      <td>0.000240414</td>\n",
       "      <td>...</td>\n",
       "      <td>0</td>\n",
       "      <td>0</td>\n",
       "      <td>0</td>\n",
       "      <td>0</td>\n",
       "      <td>0</td>\n",
       "      <td>0</td>\n",
       "      <td>0</td>\n",
       "      <td>0</td>\n",
       "      <td>0</td>\n",
       "      <td>0.000000</td>\n",
       "    </tr>\n",
       "    <tr>\n",
       "      <th>1</th>\n",
       "      <td>Africa</td>\n",
       "      <td>Angola</td>\n",
       "      <td>0</td>\n",
       "      <td>0</td>\n",
       "      <td>0</td>\n",
       "      <td>0</td>\n",
       "      <td>0</td>\n",
       "      <td>0</td>\n",
       "      <td>0</td>\n",
       "      <td>0</td>\n",
       "      <td>...</td>\n",
       "      <td>0</td>\n",
       "      <td>0</td>\n",
       "      <td>0</td>\n",
       "      <td>0</td>\n",
       "      <td>0</td>\n",
       "      <td>0</td>\n",
       "      <td>0</td>\n",
       "      <td>0</td>\n",
       "      <td>0</td>\n",
       "      <td>0.000000</td>\n",
       "    </tr>\n",
       "    <tr>\n",
       "      <th>2</th>\n",
       "      <td>Africa</td>\n",
       "      <td>Benin</td>\n",
       "      <td>0</td>\n",
       "      <td>0</td>\n",
       "      <td>0</td>\n",
       "      <td>0</td>\n",
       "      <td>0</td>\n",
       "      <td>0</td>\n",
       "      <td>0</td>\n",
       "      <td>0</td>\n",
       "      <td>...</td>\n",
       "      <td>0</td>\n",
       "      <td>0</td>\n",
       "      <td>0</td>\n",
       "      <td>0</td>\n",
       "      <td>0</td>\n",
       "      <td>0</td>\n",
       "      <td>0</td>\n",
       "      <td>0</td>\n",
       "      <td>0</td>\n",
       "      <td>0.000000</td>\n",
       "    </tr>\n",
       "    <tr>\n",
       "      <th>3</th>\n",
       "      <td>Africa</td>\n",
       "      <td>Botswana</td>\n",
       "      <td>0.008262057</td>\n",
       "      <td>0.008484744</td>\n",
       "      <td>0.009241913</td>\n",
       "      <td>0.008796519</td>\n",
       "      <td>0.00875198</td>\n",
       "      <td>0.009731845</td>\n",
       "      <td>0.010912138</td>\n",
       "      <td>0.010845329</td>\n",
       "      <td>...</td>\n",
       "      <td>0.033315425</td>\n",
       "      <td>0.038212317</td>\n",
       "      <td>0.046534212</td>\n",
       "      <td>0.04192044</td>\n",
       "      <td>0.049608123</td>\n",
       "      <td>0.048393175</td>\n",
       "      <td>0.047178203</td>\n",
       "      <td>0.041939121</td>\n",
       "      <td>0.044340069</td>\n",
       "      <td>0.952191</td>\n",
       "    </tr>\n",
       "    <tr>\n",
       "      <th>4</th>\n",
       "      <td>Africa</td>\n",
       "      <td>Burkina Faso</td>\n",
       "      <td>0</td>\n",
       "      <td>0</td>\n",
       "      <td>0</td>\n",
       "      <td>0</td>\n",
       "      <td>0</td>\n",
       "      <td>0</td>\n",
       "      <td>0</td>\n",
       "      <td>0</td>\n",
       "      <td>...</td>\n",
       "      <td>0</td>\n",
       "      <td>0</td>\n",
       "      <td>0</td>\n",
       "      <td>0</td>\n",
       "      <td>0</td>\n",
       "      <td>0</td>\n",
       "      <td>0</td>\n",
       "      <td>0</td>\n",
       "      <td>0</td>\n",
       "      <td>0.000000</td>\n",
       "    </tr>\n",
       "  </tbody>\n",
       "</table>\n",
       "<p>5 rows × 45 columns</p>\n",
       "</div>"
      ],
      "text/plain": [
       "  Continent               Country         1980         1981         1982  \\\n",
       "0    Africa               Algeria     7.59E-05  0.000240414  0.000404907   \n",
       "1    Africa                Angola            0            0            0   \n",
       "2    Africa                 Benin            0            0            0   \n",
       "3    Africa              Botswana  0.008262057  0.008484744  0.009241913   \n",
       "4    Africa          Burkina Faso            0            0            0   \n",
       "\n",
       "          1983         1984         1985         1986         1987  ...  \\\n",
       "0    0.0005694  0.000575727  0.000582054  0.000278374  0.000240414  ...   \n",
       "1            0            0            0            0            0  ...   \n",
       "2            0            0            0            0            0  ...   \n",
       "3  0.008796519   0.00875198  0.009731845  0.010912138  0.010845329  ...   \n",
       "4            0            0            0            0            0  ...   \n",
       "\n",
       "          2013         2014         2015        2016         2017  \\\n",
       "0            0            0            0           0            0   \n",
       "1            0            0            0           0            0   \n",
       "2            0            0            0           0            0   \n",
       "3  0.033315425  0.038212317  0.046534212  0.04192044  0.049608123   \n",
       "4            0            0            0           0            0   \n",
       "\n",
       "          2018         2019         2020         2021 Production_Coal  \n",
       "0            0            0            0            0        0.000000  \n",
       "1            0            0            0            0        0.000000  \n",
       "2            0            0            0            0        0.000000  \n",
       "3  0.048393175  0.047178203  0.041939121  0.044340069        0.952191  \n",
       "4            0            0            0            0        0.000000  \n",
       "\n",
       "[5 rows x 45 columns]"
      ]
     },
     "execution_count": 4,
     "metadata": {},
     "output_type": "execute_result"
    }
   ],
   "source": [
    "coal_prod_data.head()"
   ]
  },
  {
   "cell_type": "code",
   "execution_count": 5,
   "id": "a8f9e693",
   "metadata": {},
   "outputs": [
    {
     "data": {
      "text/plain": [
       "(230, 45)"
      ]
     },
     "execution_count": 5,
     "metadata": {},
     "output_type": "execute_result"
    }
   ],
   "source": [
    "coal_prod_data.shape"
   ]
  },
  {
   "cell_type": "code",
   "execution_count": 6,
   "id": "799d58c9",
   "metadata": {},
   "outputs": [
    {
     "data": {
      "text/html": [
       "<div>\n",
       "<style scoped>\n",
       "    .dataframe tbody tr th:only-of-type {\n",
       "        vertical-align: middle;\n",
       "    }\n",
       "\n",
       "    .dataframe tbody tr th {\n",
       "        vertical-align: top;\n",
       "    }\n",
       "\n",
       "    .dataframe thead th {\n",
       "        text-align: right;\n",
       "    }\n",
       "</style>\n",
       "<table border=\"1\" class=\"dataframe\">\n",
       "  <thead>\n",
       "    <tr style=\"text-align: right;\">\n",
       "      <th></th>\n",
       "      <th>Production_Coal</th>\n",
       "    </tr>\n",
       "  </thead>\n",
       "  <tbody>\n",
       "    <tr>\n",
       "      <th>count</th>\n",
       "      <td>230.000000</td>\n",
       "    </tr>\n",
       "    <tr>\n",
       "      <th>mean</th>\n",
       "      <td>21.945854</td>\n",
       "    </tr>\n",
       "    <tr>\n",
       "      <th>std</th>\n",
       "      <td>145.615741</td>\n",
       "    </tr>\n",
       "    <tr>\n",
       "      <th>min</th>\n",
       "      <td>0.000000</td>\n",
       "    </tr>\n",
       "    <tr>\n",
       "      <th>25%</th>\n",
       "      <td>0.000000</td>\n",
       "    </tr>\n",
       "    <tr>\n",
       "      <th>50%</th>\n",
       "      <td>0.000000</td>\n",
       "    </tr>\n",
       "    <tr>\n",
       "      <th>75%</th>\n",
       "      <td>0.532661</td>\n",
       "    </tr>\n",
       "    <tr>\n",
       "      <th>max</th>\n",
       "      <td>1968.375434</td>\n",
       "    </tr>\n",
       "  </tbody>\n",
       "</table>\n",
       "</div>"
      ],
      "text/plain": [
       "       Production_Coal\n",
       "count       230.000000\n",
       "mean         21.945854\n",
       "std         145.615741\n",
       "min           0.000000\n",
       "25%           0.000000\n",
       "50%           0.000000\n",
       "75%           0.532661\n",
       "max        1968.375434"
      ]
     },
     "execution_count": 6,
     "metadata": {},
     "output_type": "execute_result"
    }
   ],
   "source": [
    "coal_prod_data.describe()"
   ]
  },
  {
   "cell_type": "code",
   "execution_count": 7,
   "id": "a7279fb3",
   "metadata": {},
   "outputs": [
    {
     "data": {
      "text/plain": [
       "Index(['Continent', 'Country', '1980', '1981', '1982', '1983', '1984', '1985',\n",
       "       '1986', '1987', '1988', '1989', '1990', '1991', '1992', '1993', '1994',\n",
       "       '1995', '1996', '1997', '1998', '1999', '2000', '2001', '2002', '2003',\n",
       "       '2004', '2005', '2006', '2007', '2008', '2009', '2010', '2011', '2012',\n",
       "       '2013', '2014', '2015', '2016', '2017', '2018', '2019', '2020', '2021',\n",
       "       'Production_Coal'],\n",
       "      dtype='object')"
      ]
     },
     "execution_count": 7,
     "metadata": {},
     "output_type": "execute_result"
    }
   ],
   "source": [
    "coal_prod_data.columns"
   ]
  },
  {
   "cell_type": "code",
   "execution_count": 8,
   "id": "95a3dd05",
   "metadata": {},
   "outputs": [
    {
     "data": {
      "text/plain": [
       "Continent          0\n",
       "Country            0\n",
       "1980               0\n",
       "1981               0\n",
       "1982               0\n",
       "1983               0\n",
       "1984               0\n",
       "1985               0\n",
       "1986               0\n",
       "1987               0\n",
       "1988               0\n",
       "1989               0\n",
       "1990               0\n",
       "1991               0\n",
       "1992               0\n",
       "1993               0\n",
       "1994               0\n",
       "1995               0\n",
       "1996               0\n",
       "1997               0\n",
       "1998               0\n",
       "1999               0\n",
       "2000               0\n",
       "2001               0\n",
       "2002               0\n",
       "2003               0\n",
       "2004               0\n",
       "2005               0\n",
       "2006               0\n",
       "2007               0\n",
       "2008               0\n",
       "2009               0\n",
       "2010               0\n",
       "2011               0\n",
       "2012               0\n",
       "2013               0\n",
       "2014               0\n",
       "2015               0\n",
       "2016               0\n",
       "2017               0\n",
       "2018               0\n",
       "2019               0\n",
       "2020               0\n",
       "2021               0\n",
       "Production_Coal    0\n",
       "dtype: int64"
      ]
     },
     "execution_count": 8,
     "metadata": {},
     "output_type": "execute_result"
    }
   ],
   "source": [
    "coal_prod_data.isnull().sum()"
   ]
  },
  {
   "cell_type": "code",
   "execution_count": 9,
   "id": "1d4da0cd",
   "metadata": {},
   "outputs": [
    {
     "data": {
      "text/plain": [
       "Continent           object\n",
       "Country             object\n",
       "1980                object\n",
       "1981                object\n",
       "1982                object\n",
       "1983                object\n",
       "1984                object\n",
       "1985                object\n",
       "1986                object\n",
       "1987                object\n",
       "1988                object\n",
       "1989                object\n",
       "1990                object\n",
       "1991                object\n",
       "1992                object\n",
       "1993                object\n",
       "1994                object\n",
       "1995                object\n",
       "1996                object\n",
       "1997                object\n",
       "1998                object\n",
       "1999                object\n",
       "2000                object\n",
       "2001                object\n",
       "2002                object\n",
       "2003                object\n",
       "2004                object\n",
       "2005                object\n",
       "2006                object\n",
       "2007                object\n",
       "2008                object\n",
       "2009                object\n",
       "2010                object\n",
       "2011                object\n",
       "2012                object\n",
       "2013                object\n",
       "2014                object\n",
       "2015                object\n",
       "2016                object\n",
       "2017                object\n",
       "2018                object\n",
       "2019                object\n",
       "2020                object\n",
       "2021                object\n",
       "Production_Coal    float64\n",
       "dtype: object"
      ]
     },
     "execution_count": 9,
     "metadata": {},
     "output_type": "execute_result"
    }
   ],
   "source": [
    "coal_prod_data.dtypes"
   ]
  },
  {
   "cell_type": "code",
   "execution_count": 13,
   "id": "d5b9b9fa",
   "metadata": {},
   "outputs": [],
   "source": [
    "long_coal_prod_data = coal_prod_data.melt(ignore_index=False).reset_index()\n"
   ]
  },
  {
   "cell_type": "code",
   "execution_count": 16,
   "id": "0a779c38",
   "metadata": {},
   "outputs": [
    {
     "data": {
      "text/html": [
       "<div>\n",
       "<style scoped>\n",
       "    .dataframe tbody tr th:only-of-type {\n",
       "        vertical-align: middle;\n",
       "    }\n",
       "\n",
       "    .dataframe tbody tr th {\n",
       "        vertical-align: top;\n",
       "    }\n",
       "\n",
       "    .dataframe thead th {\n",
       "        text-align: right;\n",
       "    }\n",
       "</style>\n",
       "<table border=\"1\" class=\"dataframe\">\n",
       "  <thead>\n",
       "    <tr style=\"text-align: right;\">\n",
       "      <th></th>\n",
       "      <th>index</th>\n",
       "      <th>variable</th>\n",
       "      <th>value</th>\n",
       "    </tr>\n",
       "  </thead>\n",
       "  <tbody>\n",
       "    <tr>\n",
       "      <th>0</th>\n",
       "      <td>0</td>\n",
       "      <td>Continent</td>\n",
       "      <td>Africa</td>\n",
       "    </tr>\n",
       "    <tr>\n",
       "      <th>1</th>\n",
       "      <td>1</td>\n",
       "      <td>Continent</td>\n",
       "      <td>Africa</td>\n",
       "    </tr>\n",
       "    <tr>\n",
       "      <th>2</th>\n",
       "      <td>2</td>\n",
       "      <td>Continent</td>\n",
       "      <td>Africa</td>\n",
       "    </tr>\n",
       "    <tr>\n",
       "      <th>3</th>\n",
       "      <td>3</td>\n",
       "      <td>Continent</td>\n",
       "      <td>Africa</td>\n",
       "    </tr>\n",
       "    <tr>\n",
       "      <th>4</th>\n",
       "      <td>4</td>\n",
       "      <td>Continent</td>\n",
       "      <td>Africa</td>\n",
       "    </tr>\n",
       "  </tbody>\n",
       "</table>\n",
       "</div>"
      ],
      "text/plain": [
       "   index   variable   value\n",
       "0      0  Continent  Africa\n",
       "1      1  Continent  Africa\n",
       "2      2  Continent  Africa\n",
       "3      3  Continent  Africa\n",
       "4      4  Continent  Africa"
      ]
     },
     "execution_count": 16,
     "metadata": {},
     "output_type": "execute_result"
    }
   ],
   "source": [
    "long_coal_prod_data.head()"
   ]
  },
  {
   "cell_type": "markdown",
   "id": "6a36dd09",
   "metadata": {},
   "source": [
    "### 1.6.2 Explore The production Data<a id='1.6.2_Explore_The_production_Data'></a>\n"
   ]
  },
  {
   "cell_type": "code",
   "execution_count": 83,
   "id": "2becb12e",
   "metadata": {},
   "outputs": [
    {
     "data": {
      "text/html": [
       "<div>\n",
       "<style scoped>\n",
       "    .dataframe tbody tr th:only-of-type {\n",
       "        vertical-align: middle;\n",
       "    }\n",
       "\n",
       "    .dataframe tbody tr th {\n",
       "        vertical-align: top;\n",
       "    }\n",
       "\n",
       "    .dataframe thead th {\n",
       "        text-align: right;\n",
       "    }\n",
       "</style>\n",
       "<table border=\"1\" class=\"dataframe\">\n",
       "  <thead>\n",
       "    <tr style=\"text-align: right;\">\n",
       "      <th></th>\n",
       "      <th>Continent</th>\n",
       "      <th>Country</th>\n",
       "      <th>1980</th>\n",
       "      <th>1981</th>\n",
       "      <th>1982</th>\n",
       "      <th>1983</th>\n",
       "      <th>1984</th>\n",
       "      <th>1985</th>\n",
       "      <th>1986</th>\n",
       "      <th>1987</th>\n",
       "      <th>...</th>\n",
       "      <th>2013</th>\n",
       "      <th>2014</th>\n",
       "      <th>2015</th>\n",
       "      <th>2016</th>\n",
       "      <th>2017</th>\n",
       "      <th>2018</th>\n",
       "      <th>2019</th>\n",
       "      <th>2020</th>\n",
       "      <th>2021</th>\n",
       "      <th>Total_production</th>\n",
       "    </tr>\n",
       "  </thead>\n",
       "  <tbody>\n",
       "    <tr>\n",
       "      <th>0</th>\n",
       "      <td>Africa</td>\n",
       "      <td>Algeria</td>\n",
       "      <td>2.803017355</td>\n",
       "      <td>3.03753686</td>\n",
       "      <td>3.224933779</td>\n",
       "      <td>3.606400483</td>\n",
       "      <td>3.859176003</td>\n",
       "      <td>3.907465538</td>\n",
       "      <td>3.968324779</td>\n",
       "      <td>4.218086334</td>\n",
       "      <td>...</td>\n",
       "      <td>6.510417691</td>\n",
       "      <td>6.561749872</td>\n",
       "      <td>6.696192523</td>\n",
       "      <td>6.910709728</td>\n",
       "      <td>6.830371007</td>\n",
       "      <td>6.755066467</td>\n",
       "      <td>6.474600013</td>\n",
       "      <td>5.972769931</td>\n",
       "      <td>6.656881917</td>\n",
       "      <td>238.118858</td>\n",
       "    </tr>\n",
       "    <tr>\n",
       "      <th>1</th>\n",
       "      <td>Africa</td>\n",
       "      <td>Angola</td>\n",
       "      <td>0.335098042</td>\n",
       "      <td>0.291293691</td>\n",
       "      <td>0.276262403</td>\n",
       "      <td>0.395407667</td>\n",
       "      <td>0.462550452</td>\n",
       "      <td>0.511269369</td>\n",
       "      <td>0.621432995</td>\n",
       "      <td>0.789428936</td>\n",
       "      <td>...</td>\n",
       "      <td>3.932204112</td>\n",
       "      <td>3.802528446</td>\n",
       "      <td>3.949946917</td>\n",
       "      <td>3.93529724</td>\n",
       "      <td>3.899020984</td>\n",
       "      <td>3.814151292</td>\n",
       "      <td>3.526638469</td>\n",
       "      <td>3.159336901</td>\n",
       "      <td>2.824017641</td>\n",
       "      <td>90.852722</td>\n",
       "    </tr>\n",
       "    <tr>\n",
       "      <th>2</th>\n",
       "      <td>Africa</td>\n",
       "      <td>Benin</td>\n",
       "      <td>in</td>\n",
       "      <td>0</td>\n",
       "      <td>0</td>\n",
       "      <td>0.00896</td>\n",
       "      <td>0.01573</td>\n",
       "      <td>0.01793</td>\n",
       "      <td>0.01793</td>\n",
       "      <td>0.01569</td>\n",
       "      <td>...</td>\n",
       "      <td>0.000019082</td>\n",
       "      <td>0.00001902</td>\n",
       "      <td>0.000055914</td>\n",
       "      <td>0.00009232</td>\n",
       "      <td>0.000055278</td>\n",
       "      <td>4.64E-05</td>\n",
       "      <td>7.18E-05</td>\n",
       "      <td>6.19E-05</td>\n",
       "      <td>7.07E-05</td>\n",
       "      <td>0.178363</td>\n",
       "    </tr>\n",
       "    <tr>\n",
       "      <th>3</th>\n",
       "      <td>Africa</td>\n",
       "      <td>Botswana</td>\n",
       "      <td>0.008262057</td>\n",
       "      <td>0.008484744</td>\n",
       "      <td>0.009241913</td>\n",
       "      <td>0.008796519</td>\n",
       "      <td>0.00875198</td>\n",
       "      <td>0.009731845</td>\n",
       "      <td>0.010912138</td>\n",
       "      <td>0.010845329</td>\n",
       "      <td>...</td>\n",
       "      <td>0.033334507</td>\n",
       "      <td>0.038240847</td>\n",
       "      <td>0.046562169</td>\n",
       "      <td>0.0419666</td>\n",
       "      <td>0.049654188</td>\n",
       "      <td>0.048447799</td>\n",
       "      <td>0.047231633</td>\n",
       "      <td>0.041991759</td>\n",
       "      <td>0.044392707</td>\n",
       "      <td>0.952582</td>\n",
       "    </tr>\n",
       "    <tr>\n",
       "      <th>4</th>\n",
       "      <td>Africa</td>\n",
       "      <td>Burkina Faso</td>\n",
       "      <td>0</td>\n",
       "      <td>0</td>\n",
       "      <td>0</td>\n",
       "      <td>0</td>\n",
       "      <td>0</td>\n",
       "      <td>0</td>\n",
       "      <td>0</td>\n",
       "      <td>0</td>\n",
       "      <td>...</td>\n",
       "      <td>0.001106756</td>\n",
       "      <td>0.00096051</td>\n",
       "      <td>0.000987814</td>\n",
       "      <td>0.00143096</td>\n",
       "      <td>0.001455654</td>\n",
       "      <td>0.002066608</td>\n",
       "      <td>0.00190567</td>\n",
       "      <td>0.001859876</td>\n",
       "      <td>0.002054882</td>\n",
       "      <td>0.033589</td>\n",
       "    </tr>\n",
       "  </tbody>\n",
       "</table>\n",
       "<p>5 rows × 45 columns</p>\n",
       "</div>"
      ],
      "text/plain": [
       "    Continent               Country         1980         1981         1982  \\\n",
       "0      Africa               Algeria  2.803017355   3.03753686  3.224933779   \n",
       "1      Africa                Angola  0.335098042  0.291293691  0.276262403   \n",
       "2      Africa                 Benin           in            0            0   \n",
       "3      Africa              Botswana  0.008262057  0.008484744  0.009241913   \n",
       "4      Africa          Burkina Faso            0            0            0   \n",
       "\n",
       "          1983         1984         1985         1986         1987  ...  \\\n",
       "0  3.606400483  3.859176003  3.907465538  3.968324779  4.218086334  ...   \n",
       "1  0.395407667  0.462550452  0.511269369  0.621432995  0.789428936  ...   \n",
       "2      0.00896      0.01573      0.01793      0.01793      0.01569  ...   \n",
       "3  0.008796519   0.00875198  0.009731845  0.010912138  0.010845329  ...   \n",
       "4            0            0            0            0            0  ...   \n",
       "\n",
       "          2013         2014         2015         2016         2017  \\\n",
       "0  6.510417691  6.561749872  6.696192523  6.910709728  6.830371007   \n",
       "1  3.932204112  3.802528446  3.949946917   3.93529724  3.899020984   \n",
       "2  0.000019082   0.00001902  0.000055914   0.00009232  0.000055278   \n",
       "3  0.033334507  0.038240847  0.046562169    0.0419666  0.049654188   \n",
       "4  0.001106756   0.00096051  0.000987814   0.00143096  0.001455654   \n",
       "\n",
       "          2018         2019         2020         2021 Total_production  \n",
       "0  6.755066467  6.474600013  5.972769931  6.656881917       238.118858  \n",
       "1  3.814151292  3.526638469  3.159336901  2.824017641        90.852722  \n",
       "2     4.64E-05     7.18E-05     6.19E-05     7.07E-05         0.178363  \n",
       "3  0.048447799  0.047231633  0.041991759  0.044392707         0.952582  \n",
       "4  0.002066608   0.00190567  0.001859876  0.002054882         0.033589  \n",
       "\n",
       "[5 rows x 45 columns]"
      ]
     },
     "execution_count": 83,
     "metadata": {},
     "output_type": "execute_result"
    }
   ],
   "source": [
    "prod_data.head()"
   ]
  },
  {
   "cell_type": "code",
   "execution_count": 84,
   "id": "f4d89a17",
   "metadata": {},
   "outputs": [
    {
     "data": {
      "text/plain": [
       "(229, 45)"
      ]
     },
     "execution_count": 84,
     "metadata": {},
     "output_type": "execute_result"
    }
   ],
   "source": [
    "prod_data.shape"
   ]
  },
  {
   "cell_type": "code",
   "execution_count": 85,
   "id": "295fad84",
   "metadata": {},
   "outputs": [
    {
     "data": {
      "text/html": [
       "<div>\n",
       "<style scoped>\n",
       "    .dataframe tbody tr th:only-of-type {\n",
       "        vertical-align: middle;\n",
       "    }\n",
       "\n",
       "    .dataframe tbody tr th {\n",
       "        vertical-align: top;\n",
       "    }\n",
       "\n",
       "    .dataframe thead th {\n",
       "        text-align: right;\n",
       "    }\n",
       "</style>\n",
       "<table border=\"1\" class=\"dataframe\">\n",
       "  <thead>\n",
       "    <tr style=\"text-align: right;\">\n",
       "      <th></th>\n",
       "      <th>Total_production</th>\n",
       "    </tr>\n",
       "  </thead>\n",
       "  <tbody>\n",
       "    <tr>\n",
       "      <th>count</th>\n",
       "      <td>229.000000</td>\n",
       "    </tr>\n",
       "    <tr>\n",
       "      <th>mean</th>\n",
       "      <td>79.280368</td>\n",
       "    </tr>\n",
       "    <tr>\n",
       "      <th>std</th>\n",
       "      <td>308.217753</td>\n",
       "    </tr>\n",
       "    <tr>\n",
       "      <th>min</th>\n",
       "      <td>0.000000</td>\n",
       "    </tr>\n",
       "    <tr>\n",
       "      <th>25%</th>\n",
       "      <td>0.039002</td>\n",
       "    </tr>\n",
       "    <tr>\n",
       "      <th>50%</th>\n",
       "      <td>2.272900</td>\n",
       "    </tr>\n",
       "    <tr>\n",
       "      <th>75%</th>\n",
       "      <td>27.855034</td>\n",
       "    </tr>\n",
       "    <tr>\n",
       "      <th>max</th>\n",
       "      <td>3149.020415</td>\n",
       "    </tr>\n",
       "  </tbody>\n",
       "</table>\n",
       "</div>"
      ],
      "text/plain": [
       "       Total_production\n",
       "count        229.000000\n",
       "mean          79.280368\n",
       "std          308.217753\n",
       "min            0.000000\n",
       "25%            0.039002\n",
       "50%            2.272900\n",
       "75%           27.855034\n",
       "max         3149.020415"
      ]
     },
     "execution_count": 85,
     "metadata": {},
     "output_type": "execute_result"
    }
   ],
   "source": [
    "prod_data.describe()"
   ]
  },
  {
   "cell_type": "code",
   "execution_count": 86,
   "id": "ba4cfe9a",
   "metadata": {},
   "outputs": [
    {
     "data": {
      "text/plain": [
       "Index(['Continent', 'Country', '1980', '1981', '1982', '1983', '1984', '1985',\n",
       "       '1986', '1987', '1988', '1989', '1990', '1991', '1992', '1993', '1994',\n",
       "       '1995', '1996', '1997', '1998', '1999', '2000', '2001', '2002', '2003',\n",
       "       '2004', '2005', '2006', '2007', '2008', '2009', '2010', '2011', '2012',\n",
       "       '2013', '2014', '2015', '2016', '2017', '2018', '2019', '2020', '2021',\n",
       "       'Total_production'],\n",
       "      dtype='object')"
      ]
     },
     "execution_count": 86,
     "metadata": {},
     "output_type": "execute_result"
    }
   ],
   "source": [
    "prod_data.columns"
   ]
  },
  {
   "cell_type": "code",
   "execution_count": 87,
   "id": "c3a74760",
   "metadata": {},
   "outputs": [
    {
     "data": {
      "text/plain": [
       "Continent           0\n",
       "Country             0\n",
       "1980                0\n",
       "1981                0\n",
       "1982                0\n",
       "1983                0\n",
       "1984                0\n",
       "1985                0\n",
       "1986                0\n",
       "1987                0\n",
       "1988                0\n",
       "1989                0\n",
       "1990                0\n",
       "1991                0\n",
       "1992                0\n",
       "1993                0\n",
       "1994                0\n",
       "1995                0\n",
       "1996                0\n",
       "1997                0\n",
       "1998                0\n",
       "1999                0\n",
       "2000                0\n",
       "2001                0\n",
       "2002                0\n",
       "2003                0\n",
       "2004                0\n",
       "2005                0\n",
       "2006                0\n",
       "2007                0\n",
       "2008                0\n",
       "2009                0\n",
       "2010                0\n",
       "2011                0\n",
       "2012                0\n",
       "2013                0\n",
       "2014                0\n",
       "2015                0\n",
       "2016                0\n",
       "2017                0\n",
       "2018                0\n",
       "2019                0\n",
       "2020                0\n",
       "2021                0\n",
       "Total_production    0\n",
       "dtype: int64"
      ]
     },
     "execution_count": 87,
     "metadata": {},
     "output_type": "execute_result"
    }
   ],
   "source": [
    "prod_data.isnull().sum()"
   ]
  },
  {
   "cell_type": "code",
   "execution_count": 88,
   "id": "b7948193",
   "metadata": {},
   "outputs": [
    {
     "data": {
      "text/plain": [
       "Continent            object\n",
       "Country              object\n",
       "1980                 object\n",
       "1981                 object\n",
       "1982                 object\n",
       "1983                 object\n",
       "1984                 object\n",
       "1985                 object\n",
       "1986                 object\n",
       "1987                 object\n",
       "1988                 object\n",
       "1989                 object\n",
       "1990                 object\n",
       "1991                 object\n",
       "1992                 object\n",
       "1993                 object\n",
       "1994                 object\n",
       "1995                 object\n",
       "1996                 object\n",
       "1997                 object\n",
       "1998                 object\n",
       "1999                 object\n",
       "2000                 object\n",
       "2001                 object\n",
       "2002                 object\n",
       "2003                 object\n",
       "2004                 object\n",
       "2005                 object\n",
       "2006                 object\n",
       "2007                 object\n",
       "2008                 object\n",
       "2009                 object\n",
       "2010                 object\n",
       "2011                 object\n",
       "2012                 object\n",
       "2013                 object\n",
       "2014                 object\n",
       "2015                 object\n",
       "2016                 object\n",
       "2017                 object\n",
       "2018                 object\n",
       "2019                 object\n",
       "2020                 object\n",
       "2021                 object\n",
       "Total_production    float64\n",
       "dtype: object"
      ]
     },
     "execution_count": 88,
     "metadata": {},
     "output_type": "execute_result"
    }
   ],
   "source": [
    "prod_data.dtypes"
   ]
  },
  {
   "cell_type": "code",
   "execution_count": 99,
   "id": "46bb90cc",
   "metadata": {},
   "outputs": [
    {
     "data": {
      "text/plain": [
       "229"
      ]
     },
     "execution_count": 99,
     "metadata": {},
     "output_type": "execute_result"
    }
   ],
   "source": [
    "prod_data.Country.value_counts().sum()"
   ]
  },
  {
   "cell_type": "code",
   "execution_count": 100,
   "id": "5677a0de",
   "metadata": {},
   "outputs": [
    {
     "data": {
      "text/plain": [
       "229"
      ]
     },
     "execution_count": 100,
     "metadata": {},
     "output_type": "execute_result"
    }
   ],
   "source": [
    "prod_data.Continent.value_counts().sum()"
   ]
  },
  {
   "cell_type": "code",
   "execution_count": 103,
   "id": "34b1143b",
   "metadata": {},
   "outputs": [
    {
     "data": {
      "text/plain": [
       "array(['    Africa', '    Eurasia', '    Europe', '    Asia & Oceania',\n",
       "       '    Middle East', '    North America',\n",
       "       '    Central & South America'], dtype=object)"
      ]
     },
     "execution_count": 103,
     "metadata": {},
     "output_type": "execute_result"
    }
   ],
   "source": [
    "prod_data.Continent.unique()\n"
   ]
  },
  {
   "cell_type": "markdown",
   "id": "f288845d",
   "metadata": {},
   "source": [
    "### 1.6.3 Explore The consumption Data<a id='1.6.3_Explore_The_consumption_Data'></a>\n"
   ]
  },
  {
   "cell_type": "code",
   "execution_count": 90,
   "id": "2556e1a9",
   "metadata": {},
   "outputs": [
    {
     "data": {
      "text/html": [
       "<div>\n",
       "<style scoped>\n",
       "    .dataframe tbody tr th:only-of-type {\n",
       "        vertical-align: middle;\n",
       "    }\n",
       "\n",
       "    .dataframe tbody tr th {\n",
       "        vertical-align: top;\n",
       "    }\n",
       "\n",
       "    .dataframe thead th {\n",
       "        text-align: right;\n",
       "    }\n",
       "</style>\n",
       "<table border=\"1\" class=\"dataframe\">\n",
       "  <thead>\n",
       "    <tr style=\"text-align: right;\">\n",
       "      <th></th>\n",
       "      <th>Continent</th>\n",
       "      <th>Country</th>\n",
       "      <th>1980</th>\n",
       "      <th>1981</th>\n",
       "      <th>1982</th>\n",
       "      <th>1983</th>\n",
       "      <th>1984</th>\n",
       "      <th>1985</th>\n",
       "      <th>1986</th>\n",
       "      <th>1987</th>\n",
       "      <th>...</th>\n",
       "      <th>2013</th>\n",
       "      <th>2014</th>\n",
       "      <th>2015</th>\n",
       "      <th>2016</th>\n",
       "      <th>2017</th>\n",
       "      <th>2018</th>\n",
       "      <th>2019</th>\n",
       "      <th>2020</th>\n",
       "      <th>2021</th>\n",
       "      <th>Total_Consumption</th>\n",
       "    </tr>\n",
       "  </thead>\n",
       "  <tbody>\n",
       "    <tr>\n",
       "      <th>0</th>\n",
       "      <td>Africa</td>\n",
       "      <td>Algeria</td>\n",
       "      <td>0.780695167</td>\n",
       "      <td>0.663391323</td>\n",
       "      <td>0.952188116</td>\n",
       "      <td>1.070561843</td>\n",
       "      <td>1.130786713</td>\n",
       "      <td>1.046418247</td>\n",
       "      <td>1.066300962</td>\n",
       "      <td>1.138318654</td>\n",
       "      <td>...</td>\n",
       "      <td>2.037584643</td>\n",
       "      <td>2.299888436</td>\n",
       "      <td>2.35214754</td>\n",
       "      <td>2.33598238</td>\n",
       "      <td>2.365986905</td>\n",
       "      <td>2.522119152</td>\n",
       "      <td>2.624873096</td>\n",
       "      <td>2.480810774</td>\n",
       "      <td>2.581123314</td>\n",
       "      <td>64.746181</td>\n",
       "    </tr>\n",
       "    <tr>\n",
       "      <th>1</th>\n",
       "      <td>Africa</td>\n",
       "      <td>Angola</td>\n",
       "      <td>0.058366148</td>\n",
       "      <td>0.057863688</td>\n",
       "      <td>0.062007899</td>\n",
       "      <td>0.066297007</td>\n",
       "      <td>0.059894701</td>\n",
       "      <td>0.073766696</td>\n",
       "      <td>0.072853256</td>\n",
       "      <td>0.075135479</td>\n",
       "      <td>...</td>\n",
       "      <td>0.347761278</td>\n",
       "      <td>0.382763726</td>\n",
       "      <td>0.39921871</td>\n",
       "      <td>0.364251517</td>\n",
       "      <td>0.347458949</td>\n",
       "      <td>0.359226946</td>\n",
       "      <td>0.404865374</td>\n",
       "      <td>0.402317536</td>\n",
       "      <td>0.328628418</td>\n",
       "      <td>7.403765</td>\n",
       "    </tr>\n",
       "    <tr>\n",
       "      <th>2</th>\n",
       "      <td>Africa</td>\n",
       "      <td>Benin</td>\n",
       "      <td>0.006526525</td>\n",
       "      <td>0.006574612</td>\n",
       "      <td>0.004640112</td>\n",
       "      <td>0.006731564</td>\n",
       "      <td>0.006673241</td>\n",
       "      <td>0.007698814</td>\n",
       "      <td>0.007501055</td>\n",
       "      <td>0.005942365</td>\n",
       "      <td>...</td>\n",
       "      <td>0.066471109</td>\n",
       "      <td>0.070275151</td>\n",
       "      <td>0.077723341</td>\n",
       "      <td>0.094785008</td>\n",
       "      <td>0.10051639</td>\n",
       "      <td>0.111506331</td>\n",
       "      <td>0.101325936</td>\n",
       "      <td>0.108653617</td>\n",
       "      <td>0.110194887</td>\n",
       "      <td>1.660207</td>\n",
       "    </tr>\n",
       "    <tr>\n",
       "      <th>3</th>\n",
       "      <td>Africa</td>\n",
       "      <td>Botswana</td>\n",
       "      <td>0.014748762</td>\n",
       "      <td>0.015462338</td>\n",
       "      <td>0.014427219</td>\n",
       "      <td>0.014460824</td>\n",
       "      <td>0.014444631</td>\n",
       "      <td>0.018865991</td>\n",
       "      <td>0.020060806</td>\n",
       "      <td>0.021144246</td>\n",
       "      <td>...</td>\n",
       "      <td>0.065375734</td>\n",
       "      <td>0.065661654</td>\n",
       "      <td>0.080008274</td>\n",
       "      <td>0.088008537</td>\n",
       "      <td>0.080969008</td>\n",
       "      <td>0.080276228</td>\n",
       "      <td>0.080755726</td>\n",
       "      <td>0.076835026</td>\n",
       "      <td>0.082892488</td>\n",
       "      <td>2.021542</td>\n",
       "    </tr>\n",
       "    <tr>\n",
       "      <th>4</th>\n",
       "      <td>Africa</td>\n",
       "      <td>Burkina Faso</td>\n",
       "      <td>0.0060363</td>\n",
       "      <td>0.006019807</td>\n",
       "      <td>0.006019807</td>\n",
       "      <td>0.006019807</td>\n",
       "      <td>0.0060363</td>\n",
       "      <td>0.005819147</td>\n",
       "      <td>0.006886218</td>\n",
       "      <td>0.007191413</td>\n",
       "      <td>...</td>\n",
       "      <td>0.0451141</td>\n",
       "      <td>0.042012755</td>\n",
       "      <td>0.053396002</td>\n",
       "      <td>0.051306252</td>\n",
       "      <td>0.05946458</td>\n",
       "      <td>0.066130673</td>\n",
       "      <td>0.067697934</td>\n",
       "      <td>0.064550875</td>\n",
       "      <td>0.068226015</td>\n",
       "      <td>0.988877</td>\n",
       "    </tr>\n",
       "  </tbody>\n",
       "</table>\n",
       "<p>5 rows × 45 columns</p>\n",
       "</div>"
      ],
      "text/plain": [
       "  Continent               Country         1980         1981         1982  \\\n",
       "0    Africa               Algeria  0.780695167  0.663391323  0.952188116   \n",
       "1    Africa                Angola  0.058366148  0.057863688  0.062007899   \n",
       "2    Africa                 Benin  0.006526525  0.006574612  0.004640112   \n",
       "3    Africa              Botswana  0.014748762  0.015462338  0.014427219   \n",
       "4    Africa          Burkina Faso    0.0060363  0.006019807  0.006019807   \n",
       "\n",
       "          1983         1984         1985         1986         1987  ...  \\\n",
       "0  1.070561843  1.130786713  1.046418247  1.066300962  1.138318654  ...   \n",
       "1  0.066297007  0.059894701  0.073766696  0.072853256  0.075135479  ...   \n",
       "2  0.006731564  0.006673241  0.007698814  0.007501055  0.005942365  ...   \n",
       "3  0.014460824  0.014444631  0.018865991  0.020060806  0.021144246  ...   \n",
       "4  0.006019807    0.0060363  0.005819147  0.006886218  0.007191413  ...   \n",
       "\n",
       "          2013         2014         2015         2016         2017  \\\n",
       "0  2.037584643  2.299888436   2.35214754   2.33598238  2.365986905   \n",
       "1  0.347761278  0.382763726   0.39921871  0.364251517  0.347458949   \n",
       "2  0.066471109  0.070275151  0.077723341  0.094785008   0.10051639   \n",
       "3  0.065375734  0.065661654  0.080008274  0.088008537  0.080969008   \n",
       "4    0.0451141  0.042012755  0.053396002  0.051306252   0.05946458   \n",
       "\n",
       "          2018         2019         2020         2021 Total_Consumption  \n",
       "0  2.522119152  2.624873096  2.480810774  2.581123314         64.746181  \n",
       "1  0.359226946  0.404865374  0.402317536  0.328628418          7.403765  \n",
       "2  0.111506331  0.101325936  0.108653617  0.110194887          1.660207  \n",
       "3  0.080276228  0.080755726  0.076835026  0.082892488          2.021542  \n",
       "4  0.066130673  0.067697934  0.064550875  0.068226015          0.988877  \n",
       "\n",
       "[5 rows x 45 columns]"
      ]
     },
     "execution_count": 90,
     "metadata": {},
     "output_type": "execute_result"
    }
   ],
   "source": [
    "consum_data.head()"
   ]
  },
  {
   "cell_type": "code",
   "execution_count": 91,
   "id": "2ae895e8",
   "metadata": {},
   "outputs": [
    {
     "data": {
      "text/plain": [
       "(230, 45)"
      ]
     },
     "execution_count": 91,
     "metadata": {},
     "output_type": "execute_result"
    }
   ],
   "source": [
    "consum_data.shape"
   ]
  },
  {
   "cell_type": "code",
   "execution_count": 92,
   "id": "ef4381ba",
   "metadata": {},
   "outputs": [
    {
     "data": {
      "text/html": [
       "<div>\n",
       "<style scoped>\n",
       "    .dataframe tbody tr th:only-of-type {\n",
       "        vertical-align: middle;\n",
       "    }\n",
       "\n",
       "    .dataframe tbody tr th {\n",
       "        vertical-align: top;\n",
       "    }\n",
       "\n",
       "    .dataframe thead th {\n",
       "        text-align: right;\n",
       "    }\n",
       "</style>\n",
       "<table border=\"1\" class=\"dataframe\">\n",
       "  <thead>\n",
       "    <tr style=\"text-align: right;\">\n",
       "      <th></th>\n",
       "      <th>Total_Consumption</th>\n",
       "    </tr>\n",
       "  </thead>\n",
       "  <tbody>\n",
       "    <tr>\n",
       "      <th>count</th>\n",
       "      <td>230.000000</td>\n",
       "    </tr>\n",
       "    <tr>\n",
       "      <th>mean</th>\n",
       "      <td>79.129864</td>\n",
       "    </tr>\n",
       "    <tr>\n",
       "      <th>std</th>\n",
       "      <td>337.588195</td>\n",
       "    </tr>\n",
       "    <tr>\n",
       "      <th>min</th>\n",
       "      <td>0.000000</td>\n",
       "    </tr>\n",
       "    <tr>\n",
       "      <th>25%</th>\n",
       "      <td>0.747999</td>\n",
       "    </tr>\n",
       "    <tr>\n",
       "      <th>50%</th>\n",
       "      <td>5.103923</td>\n",
       "    </tr>\n",
       "    <tr>\n",
       "      <th>75%</th>\n",
       "      <td>38.877648</td>\n",
       "    </tr>\n",
       "    <tr>\n",
       "      <th>max</th>\n",
       "      <td>3830.095107</td>\n",
       "    </tr>\n",
       "  </tbody>\n",
       "</table>\n",
       "</div>"
      ],
      "text/plain": [
       "       Total_Consumption\n",
       "count         230.000000\n",
       "mean           79.129864\n",
       "std           337.588195\n",
       "min             0.000000\n",
       "25%             0.747999\n",
       "50%             5.103923\n",
       "75%            38.877648\n",
       "max          3830.095107"
      ]
     },
     "execution_count": 92,
     "metadata": {},
     "output_type": "execute_result"
    }
   ],
   "source": [
    "consum_data.describe()"
   ]
  },
  {
   "cell_type": "code",
   "execution_count": 93,
   "id": "265532de",
   "metadata": {},
   "outputs": [
    {
     "data": {
      "text/plain": [
       "Index(['Continent', 'Country', '1980', '1981', '1982', '1983', '1984', '1985',\n",
       "       '1986', '1987', '1988', '1989', '1990', '1991', '1992', '1993', '1994',\n",
       "       '1995', '1996', '1997', '1998', '1999', '2000', '2001', '2002', '2003',\n",
       "       '2004', '2005', '2006', '2007', '2008', '2009', '2010', '2011', '2012',\n",
       "       '2013', '2014', '2015', '2016', '2017', '2018', '2019', '2020', '2021',\n",
       "       'Total_Consumption'],\n",
       "      dtype='object')"
      ]
     },
     "execution_count": 93,
     "metadata": {},
     "output_type": "execute_result"
    }
   ],
   "source": [
    "consum_data.columns"
   ]
  },
  {
   "cell_type": "code",
   "execution_count": 94,
   "id": "64499e99",
   "metadata": {},
   "outputs": [
    {
     "data": {
      "text/plain": [
       "Continent            0\n",
       "Country              0\n",
       "1980                 0\n",
       "1981                 0\n",
       "1982                 0\n",
       "1983                 0\n",
       "1984                 0\n",
       "1985                 0\n",
       "1986                 0\n",
       "1987                 0\n",
       "1988                 0\n",
       "1989                 0\n",
       "1990                 0\n",
       "1991                 0\n",
       "1992                 0\n",
       "1993                 0\n",
       "1994                 0\n",
       "1995                 0\n",
       "1996                 0\n",
       "1997                 0\n",
       "1998                 0\n",
       "1999                 0\n",
       "2000                 0\n",
       "2001                 0\n",
       "2002                 0\n",
       "2003                 0\n",
       "2004                 0\n",
       "2005                 0\n",
       "2006                 0\n",
       "2007                 0\n",
       "2008                 0\n",
       "2009                 0\n",
       "2010                 0\n",
       "2011                 0\n",
       "2012                 0\n",
       "2013                 0\n",
       "2014                 0\n",
       "2015                 0\n",
       "2016                 0\n",
       "2017                 0\n",
       "2018                 0\n",
       "2019                 0\n",
       "2020                 1\n",
       "2021                 1\n",
       "Total_Consumption    0\n",
       "dtype: int64"
      ]
     },
     "execution_count": 94,
     "metadata": {},
     "output_type": "execute_result"
    }
   ],
   "source": [
    "consum_data.isnull().sum()"
   ]
  },
  {
   "cell_type": "code",
   "execution_count": 95,
   "id": "09d9e887",
   "metadata": {},
   "outputs": [
    {
     "data": {
      "text/plain": [
       "Continent             object\n",
       "Country               object\n",
       "1980                  object\n",
       "1981                  object\n",
       "1982                  object\n",
       "1983                  object\n",
       "1984                  object\n",
       "1985                  object\n",
       "1986                  object\n",
       "1987                  object\n",
       "1988                  object\n",
       "1989                  object\n",
       "1990                  object\n",
       "1991                  object\n",
       "1992                  object\n",
       "1993                  object\n",
       "1994                  object\n",
       "1995                  object\n",
       "1996                  object\n",
       "1997                  object\n",
       "1998                  object\n",
       "1999                  object\n",
       "2000                  object\n",
       "2001                  object\n",
       "2002                  object\n",
       "2003                  object\n",
       "2004                  object\n",
       "2005                  object\n",
       "2006                  object\n",
       "2007                  object\n",
       "2008                  object\n",
       "2009                  object\n",
       "2010                  object\n",
       "2011                  object\n",
       "2012                  object\n",
       "2013                  object\n",
       "2014                  object\n",
       "2015                  object\n",
       "2016                  object\n",
       "2017                  object\n",
       "2018                  object\n",
       "2019                  object\n",
       "2020                  object\n",
       "2021                  object\n",
       "Total_Consumption    float64\n",
       "dtype: object"
      ]
     },
     "execution_count": 95,
     "metadata": {},
     "output_type": "execute_result"
    }
   ],
   "source": [
    "consum_data.dtypes"
   ]
  },
  {
   "cell_type": "code",
   "execution_count": 98,
   "id": "759c26a1",
   "metadata": {},
   "outputs": [
    {
     "data": {
      "text/plain": [
       "230"
      ]
     },
     "execution_count": 98,
     "metadata": {},
     "output_type": "execute_result"
    }
   ],
   "source": [
    "consum_data.Country.value_counts().sum()"
   ]
  },
  {
   "cell_type": "code",
   "execution_count": 101,
   "id": "d447bf91",
   "metadata": {},
   "outputs": [
    {
     "data": {
      "text/plain": [
       "230"
      ]
     },
     "execution_count": 101,
     "metadata": {},
     "output_type": "execute_result"
    }
   ],
   "source": [
    "consum_data.Continent.value_counts().sum()\n"
   ]
  },
  {
   "cell_type": "code",
   "execution_count": 102,
   "id": "810fbc0d",
   "metadata": {},
   "outputs": [
    {
     "data": {
      "text/plain": [
       "array(['Africa', 'Asia & Oceania', 'Middle East',\n",
       "       'Central & South America', 'North America', 'Europe', 'Eurasia'],\n",
       "      dtype=object)"
      ]
     },
     "execution_count": 102,
     "metadata": {},
     "output_type": "execute_result"
    }
   ],
   "source": [
    "consum_data.Continent.unique()\n"
   ]
  },
  {
   "cell_type": "code",
   "execution_count": null,
   "id": "8986a1ef",
   "metadata": {},
   "outputs": [],
   "source": []
  }
 ],
 "metadata": {
  "kernelspec": {
   "display_name": "Python 3 (ipykernel)",
   "language": "python",
   "name": "python3"
  },
  "language_info": {
   "codemirror_mode": {
    "name": "ipython",
    "version": 3
   },
   "file_extension": ".py",
   "mimetype": "text/x-python",
   "name": "python",
   "nbconvert_exporter": "python",
   "pygments_lexer": "ipython3",
   "version": "3.10.9"
  }
 },
 "nbformat": 4,
 "nbformat_minor": 5
}
